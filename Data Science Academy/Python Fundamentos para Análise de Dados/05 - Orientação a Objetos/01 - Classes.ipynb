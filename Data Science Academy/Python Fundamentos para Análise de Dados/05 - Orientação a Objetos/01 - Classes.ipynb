{
 "cells": [
  {
   "cell_type": "markdown",
   "metadata": {},
   "source": [
    "# Classes"
   ]
  },
  {
   "cell_type": "markdown",
   "metadata": {},
   "source": [
    "Para criar uma classe, utiliza-se a palavra resevada _class_. O nome da sua classe segue a mesma convenção de nomes para criação de funções e variáveis, mas normalmente se usa a primeira letra maisúscula em cada palavra no nome da classe."
   ]
  },
  {
   "cell_type": "code",
   "execution_count": null,
   "metadata": {
    "collapsed": true
   },
   "outputs": [],
   "source": [
    "# Criando uma classe chamada Livro\n",
    "class Livro():\n",
    "    # Este método vai inicializar cada objeto criado a partir desta classe\n",
    "    # O nome deste métedo é __init__\n",
    "    # (self) é uma referência a cada atributo de um objeto criado a partir \n",
    "    # desta classe\n",
    "    def __init__(self):\n",
    "        # Atributos de cada objeto criado a apartir desta classe. O self indica que estes são atributos dos objetos\n",
    "        self.titulo = 'O Monge e o Executivo'\n",
    "        self.isbn = 9988888\n",
    "        print(\"Construtor chamado para criar um objeto desta classe\")\n",
    "    \n",
    "    # Métodos são funções, que recebem como parâmetros atributos do\n",
    "    # objeto criado\n",
    "    def imprime(self):\n",
    "        print(\"Foi criado o livro %s e ISBN %d\" %(self.titulo, self.isbn))\n",
    "    "
   ]
  },
  {
   "cell_type": "code",
   "execution_count": null,
   "metadata": {},
   "outputs": [],
   "source": [
    "# Criando uma instância da class Livro\n",
    "Livro1 = Livro()"
   ]
  },
  {
   "cell_type": "code",
   "execution_count": null,
   "metadata": {},
   "outputs": [],
   "source": [
    "# Tipo do Objeto Livro1\n",
    "type(Livro1)"
   ]
  },
  {
   "cell_type": "code",
   "execution_count": null,
   "metadata": {},
   "outputs": [],
   "source": [
    "# Atributo do objeto Livro1\n",
    "Livro1.titulo"
   ]
  },
  {
   "cell_type": "code",
   "execution_count": null,
   "metadata": {},
   "outputs": [],
   "source": [
    "# Método do objeto Livro1\n",
    "Livro1.imprime()"
   ]
  },
  {
   "cell_type": "code",
   "execution_count": null,
   "metadata": {
    "collapsed": true
   },
   "outputs": [],
   "source": [
    "# Criando a classe Livro com parâmetros no método construtor\n",
    "class Livro():\n",
    "    def __init__(self, titulo, isbn):\n",
    "        self.titulo = titulo\n",
    "        self.isbn = isbn\n",
    "        print(\"Construtor chamado para criar um objeto desta classe\")\n",
    "    \n",
    "    def imprime(self, titulo, isbn):\n",
    "        print(\"Este é o livro %s e ISBN %d\" %(self.titulo, self.isbn))"
   ]
  },
  {
   "cell_type": "code",
   "execution_count": null,
   "metadata": {},
   "outputs": [],
   "source": [
    "# Criando o objeto Livro2 que é uma instância da classe Livro\n",
    "Livro2 = Livro(\"A Menina que Roubava Livros\", 77886611)"
   ]
  },
  {
   "cell_type": "code",
   "execution_count": null,
   "metadata": {},
   "outputs": [],
   "source": [
    "Livro2.titulo"
   ]
  },
  {
   "cell_type": "code",
   "execution_count": null,
   "metadata": {},
   "outputs": [],
   "source": [
    "# Método do objeto Livro2\n",
    "Livro2.imprime(\"A Menina que Roubava Livros\", 77886611)"
   ]
  },
  {
   "cell_type": "code",
   "execution_count": null,
   "metadata": {
    "collapsed": true
   },
   "outputs": [],
   "source": [
    "# Criando a classe cachorro\n",
    "class Cachorro():\n",
    "    def __init__(self, raça):\n",
    "        self.raça = raça\n",
    "        print(\"Construtor chamado para criar um objeto desta classe\")"
   ]
  },
  {
   "cell_type": "code",
   "execution_count": null,
   "metadata": {},
   "outputs": [],
   "source": [
    "# Criando um objeto a partir da classe cachorro\n",
    "Rex = Cachorro(raça = 'Labrador')"
   ]
  },
  {
   "cell_type": "code",
   "execution_count": null,
   "metadata": {},
   "outputs": [],
   "source": [
    "# Criando um objeto a partir da classe cachorro\n",
    "Golias = Cachorro(raça = \"Huskie\")"
   ]
  },
  {
   "cell_type": "code",
   "execution_count": null,
   "metadata": {},
   "outputs": [],
   "source": [
    "# Atributo da class cachorro, utilizado pelo objeto criado\n",
    "Rex.raça"
   ]
  },
  {
   "cell_type": "code",
   "execution_count": null,
   "metadata": {},
   "outputs": [],
   "source": [
    "# Atributo da class cachorro, utilizado pelo objeto criado\n",
    "Golias.raça"
   ]
  },
  {
   "cell_type": "markdown",
   "metadata": {},
   "source": [
    "# The End"
   ]
  }
 ],
 "metadata": {
  "kernelspec": {
   "display_name": "Python 3",
   "language": "python",
   "name": "python3"
  },
  "language_info": {
   "codemirror_mode": {
    "name": "ipython",
    "version": 3
   },
   "file_extension": ".py",
   "mimetype": "text/x-python",
   "name": "python",
   "nbconvert_exporter": "python",
   "pygments_lexer": "ipython3",
   "version": "3.6.1"
  }
 },
 "nbformat": 4,
 "nbformat_minor": 2
}
