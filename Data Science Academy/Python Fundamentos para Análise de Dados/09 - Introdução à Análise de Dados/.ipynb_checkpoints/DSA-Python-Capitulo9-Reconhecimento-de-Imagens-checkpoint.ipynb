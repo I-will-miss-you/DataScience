{
 "cells": [
  {
   "cell_type": "markdown",
   "metadata": {},
   "source": [
    "# <font color='blue'>Data Science Academy - Python Fundamentos - Capítulo 9</font>\n",
    "\n",
    "## Download: http://github.com/dsacademybr"
   ]
  },
  {
   "cell_type": "markdown",
   "metadata": {},
   "source": [
    "****** Este Jupyter Notebook foi atualizado para a versão 3.6.1 da Linguagem Python em 05/06/2017 ******"
   ]
  },
  {
   "cell_type": "markdown",
   "metadata": {},
   "source": [
    "### Nosso objetivo aqui é apressentar um exemplo de classificação de imagens em Pyhon. Para isso, usaremos dois conjuntos de dados de treino e de teste, conforme especificação abaixo. Esses conjuntos de dados podem os valores binários de dígitos desenhados à mão e nossa tarefa será criar um modelo que reconheça estes dígitos."
   ]
  },
  {
   "cell_type": "markdown",
   "metadata": {},
   "source": [
    "Os arquivos de dados train.csv e test.csv contém imagens em escala de cinza, de dígitos desenhados à mão, de zero a nove. Cada imagem é de 28 pixels de altura e 28 pixels de largura, para um total de 784 pixels no total. Cada pixel tem um pixel de valor único associado a ele, indicando a claridade ou escuridão daquele pixel, com números mais elevados significam mais escura. Este valor de pixel é um número inteiro entre 0 e 255, inclusive. O conjunto de dados de treinamento, (train.csv), tem 785 colunas. A primeira coluna, chamado \"marcador\", é o dígito que foi desenhado pelo usuário. O restante das colunas contêm os valores de pixel da imagem associada."
   ]
  },
  {
   "cell_type": "markdown",
   "metadata": {},
   "source": [
    "Os datasets podem ser encontrados alternativamente em: "
   ]
  },
  {
   "cell_type": "markdown",
   "metadata": {},
   "source": [
    "http://datascienceacademy.com.br/blog/aluno/PythonFundamentos/"
   ]
  },
  {
   "cell_type": "code",
   "execution_count": 1,
   "metadata": {
    "collapsed": true
   },
   "outputs": [],
   "source": [
    "# Importando pacotes e definindo parâmetros\n",
    "import numpy as np\n",
    "import matplotlib.pyplot as plt\n",
    "from collections import Counter\n",
    "import time\n",
    "\n",
    "%matplotlib inline\n",
    "plt.rcParams['figure.figsize'] = (10.0, 8.0) \n",
    "plt.rcParams['image.interpolation'] = 'nearest'\n",
    "plt.rcParams['image.cmap'] = 'gray'"
   ]
  },
  {
   "cell_type": "code",
   "execution_count": 2,
   "metadata": {
    "collapsed": true
   },
   "outputs": [],
   "source": [
    "# Criando a função para carregar o arquivo csv para um array numpy\n",
    "def load_data(data_dir):\n",
    "    train_data = open(data_dir + \"train.csv\").read()\n",
    "    train_data = train_data.split(\"\\n\")[1:-1]\n",
    "    train_data = [i.split(\",\") for i in train_data]\n",
    "    \n",
    "    # print(len(train_data))\n",
    "    X_train = np.array([[int(i[j]) for j in range(1,len(i))] for i in train_data])\n",
    "    y_train = np.array([int(i[0]) for i in train_data])\n",
    "\n",
    "    # print(X_train.shape, y_train.shape)\n",
    "    test_data = open(data_dir + \"test.csv\").read()\n",
    "    test_data = test_data.split(\"\\n\")[1:-1]\n",
    "    test_data = [i.split(\",\") for i in test_data]\n",
    "    \n",
    "    # print(len(test_data))\n",
    "    X_test = np.array([[int(i[j]) for j in range(0,len(i))] for i in test_data])\n",
    "\n",
    "    # print(X_test.shape)\n",
    "    return X_train, y_train, X_test"
   ]
  },
  {
   "cell_type": "code",
   "execution_count": 3,
   "metadata": {
    "collapsed": true
   },
   "outputs": [],
   "source": [
    "# Criando uma classe\n",
    "class simple_knn():\n",
    "    \"a simple kNN with L2 distance\"\n",
    "\n",
    "    def __init__(self):\n",
    "        pass\n",
    "\n",
    "    def train(self, X, y):\n",
    "        self.X_train = X\n",
    "        self.y_train = y\n",
    "\n",
    "    def predict(self, X, k=1):\n",
    "        dists = self.compute_distances(X)\n",
    "        num_test = dists.shape[0]\n",
    "        y_pred = np.zeros(num_test)\n",
    "\n",
    "        for i in range(num_test):\n",
    "            k_closest_y = []\n",
    "            labels = self.y_train[np.argsort(dists[i,:])].flatten()\n",
    "            \n",
    "            # Encontrando os labels mais próximos\n",
    "            k_closest_y = labels[:k]\n",
    "\n",
    "            c = Counter(k_closest_y)\n",
    "            y_pred[i] = c.most_common(1)[0][0]\n",
    "\n",
    "        return(y_pred)\n",
    "\n",
    "    def compute_distances(self, X):\n",
    "        num_test = X.shape[0]\n",
    "        num_train = self.X_train.shape[0]\n",
    "\n",
    "        dot_pro = np.dot(X, self.X_train.T)\n",
    "        sum_square_test = np.square(X).sum(axis = 1)\n",
    "        sum_square_train = np.square(self.X_train).sum(axis = 1)\n",
    "        dists = np.sqrt(-2 * dot_pro + sum_square_train + np.matrix(sum_square_test).T)\n",
    "\n",
    "        return(dists)"
   ]
  },
  {
   "cell_type": "code",
   "execution_count": 19,
   "metadata": {},
   "outputs": [
    {
     "name": "stdout",
     "output_type": "stream",
     "text": [
      "(array([[0, 0, 0, ..., 0, 0, 0],\n",
      "       [0, 0, 0, ..., 0, 0, 0],\n",
      "       [0, 0, 0, ..., 0, 0, 0],\n",
      "       ..., \n",
      "       [0, 0, 0, ..., 0, 0, 0],\n",
      "       [0, 0, 0, ..., 0, 0, 0],\n",
      "       [0, 0, 0, ..., 0, 0, 0]]), array([1, 0, 1, ..., 7, 6, 9]), array([[0, 0, 0, ..., 0, 0, 0],\n",
      "       [0, 0, 0, ..., 0, 0, 0],\n",
      "       [0, 0, 0, ..., 0, 0, 0],\n",
      "       ..., \n",
      "       [0, 0, 0, ..., 0, 0, 0],\n",
      "       [0, 0, 0, ..., 0, 0, 0],\n",
      "       [0, 0, 0, ..., 0, 0, 0]]))\n"
     ]
    }
   ],
   "source": [
    "# Carregando os arquivos csv nas variáveis de treino e de teste\n",
    "# Executa em alguns segundos\n",
    "data_dir = \"./\"\n",
    "X_train, y_train, X_test = load_data(data_dir)"
   ]
  },
  {
   "cell_type": "code",
   "execution_count": 10,
   "metadata": {},
   "outputs": [
    {
     "name": "stdout",
     "output_type": "stream",
     "text": [
      "(42000, 784) (42000,) (28000, 784)\n"
     ]
    }
   ],
   "source": [
    "# Imprimindo as variáveis\n",
    "print(X_train.shape, y_train.shape, X_test.shape)"
   ]
  },
  {
   "cell_type": "code",
   "execution_count": 11,
   "metadata": {},
   "outputs": [
    {
     "data": {
      "image/png": "[encoded data removed]",
      "text/plain": [
       "<matplotlib.figure.Figure at 0x2982e1efef0>"
      ]
     },
     "metadata": {},
     "output_type": "display_data"
    }
   ],
   "source": [
    "# Distribui as imagens dos dígitos randomicamente através do dataset de treino\n",
    "# Executa em alguns segundos\n",
    "classes = [\"0\", \"1\", \"2\", \"3\", \"4\", \"5\", \"6\", \"7\", \"8\", \"9\"]\n",
    "num_classes = len(classes)\n",
    "samples = 8\n",
    "\n",
    "for y, cls in enumerate(classes):\n",
    "    idxs = np.nonzero([i == y for i in y_train])\n",
    "    idxs = np.random.choice(idxs[0], samples, replace = False)\n",
    "    for i , idx in enumerate(idxs):\n",
    "        plt_idx = i * num_classes + y + 1\n",
    "        plt.subplot(samples, num_classes, plt_idx)\n",
    "        plt.imshow(X_train[idx].reshape((28, 28)))\n",
    "        plt.axis(\"off\")\n",
    "        if i == 0:\n",
    "            plt.title(cls)\n",
    "        \n",
    "\n",
    "plt.show()"
   ]
  },
  {
   "cell_type": "code",
   "execution_count": 12,
   "metadata": {},
   "outputs": [
    {
     "data": {
      "text/plain": [
       "<matplotlib.image.AxesImage at 0x29832bc46a0>"
      ]
     },
     "execution_count": 12,
     "metadata": {},
     "output_type": "execute_result"
    },
    {
     "data": {
      "image/png": "[encoded data removed]",
      "text/plain": [
       "<matplotlib.figure.Figure at 0x2982dec7940>"
      ]
     },
     "metadata": {},
     "output_type": "display_data"
    }
   ],
   "source": [
    "# Visualizando uma imagem de teste, reconhecida pelo modelo\n",
    "plt.imshow(X_test[2311].reshape((28, 28)))"
   ]
  },
  {
   "cell_type": "code",
   "execution_count": 13,
   "metadata": {
    "collapsed": true
   },
   "outputs": [],
   "source": [
    "# Fazendo previsões para as imagens de teste, usando classificador kNN\n",
    "batch_size = 2000\n",
    "\n",
    "k = 1\n",
    "classifier = simple_knn()\n",
    "classifier.train(X_train, y_train)"
   ]
  },
  {
   "cell_type": "code",
   "execution_count": 14,
   "metadata": {},
   "outputs": [
    {
     "name": "stdout",
     "output_type": "stream",
     "text": [
      "Processando 1/14...\n",
      "Processamento concluído em 45.09993767738342 segundos.\n",
      "Processando 2/14...\n",
      "Processamento concluído em 46.33511233329773 segundos.\n",
      "Processando 3/14...\n",
      "Processamento concluído em 45.2710382938385 segundos.\n",
      "Processando 4/14...\n",
      "Processamento concluído em 45.141417503356934 segundos.\n",
      "Processando 5/14...\n",
      "Processamento concluído em 45.25050234794617 segundos.\n",
      "Processando 6/14...\n",
      "Processamento concluído em 44.92230486869812 segundos.\n",
      "Processando 7/14...\n",
      "Processamento concluído em 45.371819734573364 segundos.\n",
      "Análise preditiva concluída!\n"
     ]
    }
   ],
   "source": [
    "# Processando o modelo preditivo na primeira metade do dataset de teste\n",
    "# Executa em alguns minutos, dependendo da velocidade do computador\n",
    "\n",
    "predictions = []\n",
    "\n",
    "for i in range(int(len(X_test)/(2*batch_size))):\n",
    "    print(\"Processando \" + str(i+1) + \"/\" + str(int(len(X_test)/batch_size)) + \"...\")\n",
    "    tic = time.time()\n",
    "    predts = classifier.predict(X_test[i * batch_size:(i+1) * batch_size], k)\n",
    "    toc = time.time()\n",
    "    predictions = predictions + list(predts)\n",
    "    \n",
    "    print(\"Processamento concluído em \" + str(toc-tic) + \" segundos.\")\n",
    "\n",
    "print(\"Análise preditiva concluída!\")"
   ]
  },
  {
   "cell_type": "code",
   "execution_count": 20,
   "metadata": {},
   "outputs": [
    {
     "name": "stdout",
     "output_type": "stream",
     "text": [
      "Processando 8/14...\n",
      "Processamento concluído em 46.81738638877869 Secs.\n",
      "Processando 9/14...\n",
      "Processamento concluído em 48.16947674751282 Secs.\n",
      "Processando 10/14...\n",
      "Processamento concluído em 46.952264070510864 Secs.\n",
      "Processando 11/14...\n",
      "Processamento concluído em 47.603355884552 Secs.\n",
      "Processando 12/14...\n",
      "Processamento concluído em 48.3222975730896 Secs.\n",
      "Processando 13/14...\n",
      "Processamento concluído em 47.83902645111084 Secs.\n",
      "Processando 14/14...\n",
      "Processamento concluído em 46.96511888504028 Secs.\n",
      "Análise preditiva concluída!\n"
     ]
    }
   ],
   "source": [
    "# Processando o modelo preditivo na segunda metade do dataset de teste\n",
    "# Executa em alguns minutos, dependendo da velocidade do computador\n",
    "\n",
    "for i in range(int(len(X_test)/(2*batch_size)), int(len(X_test)/batch_size)):\n",
    "    print(\"Processando \" + str(i+1) + \"/\" + str(int(len(X_test)/batch_size)) + \"...\")\n",
    "    tic = time.time()\n",
    "    predts = classifier.predict(X_test[i * batch_size:(i+1) * batch_size], k)\n",
    "    toc = time.time()\n",
    "    predictions = predictions + list(predts)\n",
    "\n",
    "    print(\"Processamento concluído em \" + str(toc-tic) + \" Secs.\")\n",
    "\n",
    "print(\"Análise preditiva concluída!\")"
   ]
  },
  {
   "cell_type": "code",
   "execution_count": 21,
   "metadata": {
    "collapsed": true
   },
   "outputs": [],
   "source": [
    "# Grava o resultado da predição em um arquivo csv\n",
    "\n",
    "out_file = open(\"previsoes.csv\", \"w\")\n",
    "out_file.write(\"ImageId,Label\\n\")\n",
    "for i in range(len(predictions)):\n",
    "    out_file.write(str(i+1) + \",\" + str(int(predictions[i])) + \"\\n\")\n",
    "out_file.close()"
   ]
  },
  {
   "cell_type": "markdown",
   "metadata": {
    "collapsed": true
   },
   "source": [
    "# Fim"
   ]
  },
  {
   "cell_type": "markdown",
   "metadata": {
    "collapsed": true
   },
   "source": [
    "### Obrigado - Data Science Academy - <a href=http://facebook.com/dsacademy>facebook.com/dsacademybr</a>"
   ]
  }
 ],
 "metadata": {
  "kernelspec": {
   "display_name": "Python 3",
   "language": "python",
   "name": "python3"
  },
  "language_info": {
   "codemirror_mode": {
    "name": "ipython",
    "version": 3
   },
   "file_extension": ".py",
   "mimetype": "text/x-python",
   "name": "python",
   "nbconvert_exporter": "python",
   "pygments_lexer": "ipython3",
   "version": "3.6.1"
  }
 },
 "nbformat": 4,
 "nbformat_minor": 1
}
