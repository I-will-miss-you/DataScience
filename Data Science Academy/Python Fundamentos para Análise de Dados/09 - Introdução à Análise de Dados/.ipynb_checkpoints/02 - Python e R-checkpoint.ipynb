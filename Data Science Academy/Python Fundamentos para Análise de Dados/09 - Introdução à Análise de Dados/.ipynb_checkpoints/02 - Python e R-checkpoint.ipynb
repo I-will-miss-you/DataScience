{
 "cells": [
  {
   "cell_type": "markdown",
   "metadata": {},
   "source": [
    "# Python e R"
   ]
  },
  {
   "cell_type": "markdown",
   "metadata": {},
   "source": [
    "### Por que não utilizar Python e R juntos e aproveitar o melhor de ambos? \n",
    "### Este Jupyter Notebook será executado em Python e R e para isso você precisa ter o R instalado. Download aqui: https://www.r-project.org\n",
    "### E também configurar o kernel do R para o Jupyter Notebook. O procedimento de configuração pode ser encontrado aqui: https://irkernel.github.io\n",
    "### Dúvidas sobre instalação e configuração da linguagem R, consulte nosso treinamento <font color='blue'><a href=\"http://www.datascienceacademy.com.br/pages/curso-big-data-analytics-r-e-azure\">Big Data Analytics com R e Azure</a>.</font>"
   ]
  },
  {
   "cell_type": "code",
   "execution_count": null,
   "metadata": {
    "collapsed": true
   },
   "outputs": [],
   "source": [
    "## Importando Objetos R no Python"
   ]
  }
 ],
 "metadata": {
  "kernelspec": {
   "display_name": "Python 3",
   "language": "python",
   "name": "python3"
  },
  "language_info": {
   "codemirror_mode": {
    "name": "ipython",
    "version": 3
   },
   "file_extension": ".py",
   "mimetype": "text/x-python",
   "name": "python",
   "nbconvert_exporter": "python",
   "pygments_lexer": "ipython3",
   "version": "3.6.1"
  }
 },
 "nbformat": 4,
 "nbformat_minor": 2
}
