{
 "cells": [
  {
   "cell_type": "markdown",
   "metadata": {},
   "source": [
    "# <font color='blue'>Data Science Academy - Python Fundamentos - Capítulo 9</font>\n",
    "\n",
    "## Download: http://github.com/dsacademybr"
   ]
  },
  {
   "cell_type": "markdown",
   "metadata": {},
   "source": [
    "****** Este Jupyter Notebook foi atualizado para a versão 3.6.1 da Linguagem Python em 05/06/2017 ******"
   ]
  },
  {
   "cell_type": "markdown",
   "metadata": {},
   "source": [
    "# Python e R juntos"
   ]
  },
  {
   "cell_type": "markdown",
   "metadata": {},
   "source": [
    "### Por que não utilizar Python e R juntos e aproveitar o melhor de ambos? \n",
    "### Este Jupyter Notebook será executado em Python e R e para isso você precisa ter o R instalado. Download aqui: https://www.r-project.org\n",
    "### E também configurar o kernel do R para o Jupyter Notebook. O procedimento de configuração pode ser encontrado aqui: https://irkernel.github.io\n",
    "### Dúvidas sobre instalação e configuração da linguagem R, consulte nosso treinamento <font color='blue'><a href=\"http://www.datascienceacademy.com.br/pages/curso-big-data-analytics-r-e-azure\">Big Data Analytics com R e Azure</a>.</font>"
   ]
  },
  {
   "cell_type": "markdown",
   "metadata": {},
   "source": [
    "## Importando Objetos R no Python"
   ]
  },
  {
   "cell_type": "code",
   "execution_count": null,
   "metadata": {},
   "outputs": [],
   "source": [
    "### Instalar o pacote rpy2: \n",
    "!pip install rpy2"
   ]
  },
  {
   "cell_type": "code",
   "execution_count": null,
   "metadata": {
    "collapsed": true
   },
   "outputs": [],
   "source": [
    "# Importando o o rpy2\n",
    "import rpy2.robjects as robjects"
   ]
  },
  {
   "cell_type": "code",
   "execution_count": null,
   "metadata": {
    "collapsed": true
   },
   "outputs": [],
   "source": [
    "# Criando um objeto R com Python\n",
    "obj = robjects.r['pi']"
   ]
  },
  {
   "cell_type": "code",
   "execution_count": null,
   "metadata": {},
   "outputs": [],
   "source": [
    "obj"
   ]
  },
  {
   "cell_type": "code",
   "execution_count": null,
   "metadata": {},
   "outputs": [],
   "source": [
    "obj[0]"
   ]
  },
  {
   "cell_type": "code",
   "execution_count": null,
   "metadata": {},
   "outputs": [],
   "source": [
    "# Criando um função R a partir do Python\n",
    "robjects.r('''\n",
    "        rfunc <- function(x, verbose = FALSE) {\n",
    "            if (verbose) {\n",
    "                cat(\"Eu sou uma função em R.\\n\")\n",
    "            }\n",
    "            2 * pi * x\n",
    "        }\n",
    "        rfunc(3)\n",
    "        ''')"
   ]
  },
  {
   "cell_type": "code",
   "execution_count": null,
   "metadata": {},
   "outputs": [],
   "source": [
    "# Imprimindo a definição da função\n",
    "r_func = robjects.globalenv['rfunc']\n",
    "print(r_func.r_repr())"
   ]
  },
  {
   "cell_type": "code",
   "execution_count": null,
   "metadata": {},
   "outputs": [],
   "source": [
    "# Fazendo chamada à função\n",
    "res = r_func(4)\n",
    "print(res)"
   ]
  },
  {
   "cell_type": "code",
   "execution_count": null,
   "metadata": {},
   "outputs": [],
   "source": [
    "# Fazendo chamada à função\n",
    "res = r_func(4, 'TRUE')\n",
    "print(res)"
   ]
  },
  {
   "cell_type": "code",
   "execution_count": null,
   "metadata": {
    "collapsed": true
   },
   "outputs": [],
   "source": [
    "# Importando outros objetos do R\n",
    "letras = robjects.r['letters']"
   ]
  },
  {
   "cell_type": "code",
   "execution_count": null,
   "metadata": {
    "collapsed": true
   },
   "outputs": [],
   "source": [
    "rcode = 'paste(%s, collapse = \"-\")' %(letras.r_repr())"
   ]
  },
  {
   "cell_type": "code",
   "execution_count": null,
   "metadata": {
    "collapsed": true
   },
   "outputs": [],
   "source": [
    "resultado = robjects.r(rcode)"
   ]
  },
  {
   "cell_type": "code",
   "execution_count": null,
   "metadata": {},
   "outputs": [],
   "source": [
    "print(resultado)"
   ]
  },
  {
   "cell_type": "code",
   "execution_count": null,
   "metadata": {},
   "outputs": [],
   "source": [
    "type(resultado)"
   ]
  },
  {
   "cell_type": "code",
   "execution_count": null,
   "metadata": {
    "collapsed": true
   },
   "outputs": [],
   "source": [
    "# Criando um vetor de strings R no Python\n",
    "vec_str = robjects.StrVector(['Python', 'e', 'R', 'juntos', 'só', 'na', \n",
    "                              'Data Science Academy'])"
   ]
  },
  {
   "cell_type": "code",
   "execution_count": null,
   "metadata": {},
   "outputs": [],
   "source": [
    "print(vec_str.r_repr())"
   ]
  },
  {
   "cell_type": "code",
   "execution_count": null,
   "metadata": {
    "collapsed": true
   },
   "outputs": [],
   "source": [
    "# Criando um vetor de inteiros R no Python\n",
    "vec_int = robjects.IntVector([4, 5, 6])"
   ]
  },
  {
   "cell_type": "code",
   "execution_count": null,
   "metadata": {},
   "outputs": [],
   "source": [
    "print(vec_int.r_repr())"
   ]
  },
  {
   "cell_type": "code",
   "execution_count": null,
   "metadata": {
    "collapsed": true
   },
   "outputs": [],
   "source": [
    "# Criando um vetor de floats R no Python\n",
    "vec_flt = robjects.FloatVector([1.1, 2.2, 3.3])"
   ]
  },
  {
   "cell_type": "code",
   "execution_count": null,
   "metadata": {},
   "outputs": [],
   "source": [
    "print(vec_flt.r_repr())"
   ]
  },
  {
   "cell_type": "code",
   "execution_count": null,
   "metadata": {
    "collapsed": true
   },
   "outputs": [],
   "source": [
    "# Matrizes R\n",
    "vec = robjects.FloatVector([1.1, 2.2, 3.3, 4.4, 5.5, 6.6])\n",
    "mat = robjects.r['matrix'](vec, nrow = 2)"
   ]
  },
  {
   "cell_type": "code",
   "execution_count": null,
   "metadata": {},
   "outputs": [],
   "source": [
    "print(mat)"
   ]
  },
  {
   "cell_type": "code",
   "execution_count": null,
   "metadata": {
    "collapsed": true
   },
   "outputs": [],
   "source": [
    "# Chamando funções R\n",
    "rsum = robjects.r['sum']"
   ]
  },
  {
   "cell_type": "code",
   "execution_count": null,
   "metadata": {},
   "outputs": [],
   "source": [
    "rsum(vec_int)[0]"
   ]
  },
  {
   "cell_type": "code",
   "execution_count": null,
   "metadata": {},
   "outputs": [],
   "source": [
    "type(rsum)"
   ]
  },
  {
   "cell_type": "code",
   "execution_count": null,
   "metadata": {
    "collapsed": true
   },
   "outputs": [],
   "source": [
    "# Chamando funções R\n",
    "%matplotlib inline\n",
    "import numpy as np\n",
    "import matplotlib.pyplot as plt\n",
    "r_rnorm = robjects.r['rnorm']"
   ]
  },
  {
   "cell_type": "code",
   "execution_count": null,
   "metadata": {},
   "outputs": [],
   "source": [
    "r_rnorm(100)"
   ]
  },
  {
   "cell_type": "code",
   "execution_count": null,
   "metadata": {},
   "outputs": [],
   "source": [
    "plt.hist(r_rnorm(100))"
   ]
  },
  {
   "cell_type": "code",
   "execution_count": null,
   "metadata": {
    "collapsed": true
   },
   "outputs": [],
   "source": [
    "# Importando pacotes R\n",
    "from rpy2.robjects.packages import importr"
   ]
  },
  {
   "cell_type": "code",
   "execution_count": null,
   "metadata": {
    "collapsed": true
   },
   "outputs": [],
   "source": [
    "utils = importr(\"utils\")"
   ]
  },
  {
   "cell_type": "code",
   "execution_count": null,
   "metadata": {
    "collapsed": true
   },
   "outputs": [],
   "source": [
    "help_doc = utils.help(\"help\")"
   ]
  },
  {
   "cell_type": "code",
   "execution_count": null,
   "metadata": {},
   "outputs": [],
   "source": [
    "help_doc[0]"
   ]
  },
  {
   "cell_type": "code",
   "execution_count": null,
   "metadata": {},
   "outputs": [],
   "source": [
    "str(help_doc)"
   ]
  },
  {
   "cell_type": "markdown",
   "metadata": {},
   "source": [
    "## Extensão R para o iPython - Função Mágica\n"
   ]
  },
  {
   "cell_type": "code",
   "execution_count": null,
   "metadata": {
    "collapsed": true
   },
   "outputs": [],
   "source": [
    "# Carregando extensões R\n",
    "%load_ext rpy2.ipython"
   ]
  },
  {
   "cell_type": "code",
   "execution_count": null,
   "metadata": {},
   "outputs": [],
   "source": [
    "# Instalação de pacotes R\n",
    "%R install.packages(\"plyr\")"
   ]
  },
  {
   "cell_type": "code",
   "execution_count": null,
   "metadata": {},
   "outputs": [],
   "source": [
    "%R data(mtcars)"
   ]
  },
  {
   "cell_type": "code",
   "execution_count": null,
   "metadata": {
    "collapsed": true
   },
   "outputs": [],
   "source": [
    "%Rpull mtcars"
   ]
  },
  {
   "cell_type": "code",
   "execution_count": null,
   "metadata": {},
   "outputs": [],
   "source": [
    "%%R \n",
    "summary(mtcars)"
   ]
  },
  {
   "cell_type": "code",
   "execution_count": null,
   "metadata": {},
   "outputs": [],
   "source": [
    "mtcars.describe()"
   ]
  },
  {
   "cell_type": "code",
   "execution_count": null,
   "metadata": {},
   "outputs": [],
   "source": [
    "%R print(mean(mtcars$mpg))"
   ]
  },
  {
   "cell_type": "markdown",
   "metadata": {},
   "source": [
    "### Dúvidas sobre instalação e configuração da linguagem R, consulte nosso treinamento <font color='blue'><a href=\"http://www.datascienceacademy.com.br/pages/curso-big-data-analytics-r-e-azure\">Big Data Analytics com R e Azure</a>.</font>"
   ]
  },
  {
   "cell_type": "code",
   "execution_count": null,
   "metadata": {},
   "outputs": [],
   "source": [
    "%R vecx = c(1, 4, 5, 7); sd(vecx); mean(vecx)"
   ]
  },
  {
   "cell_type": "code",
   "execution_count": null,
   "metadata": {},
   "outputs": [],
   "source": [
    "%R vecy = c(2,4,3,9)"
   ]
  },
  {
   "cell_type": "code",
   "execution_count": null,
   "metadata": {},
   "outputs": [],
   "source": [
    "%R lm(formula = vecy ~ vecx)"
   ]
  },
  {
   "cell_type": "code",
   "execution_count": null,
   "metadata": {},
   "outputs": [],
   "source": [
    "%R plot(vecx, vecy)"
   ]
  },
  {
   "cell_type": "code",
   "execution_count": null,
   "metadata": {},
   "outputs": [],
   "source": [
    "# Código Python\n",
    "import numpy as np\n",
    "X = np.array([4.5,6.3,7.9])\n",
    "X.mean()"
   ]
  },
  {
   "cell_type": "code",
   "execution_count": null,
   "metadata": {},
   "outputs": [],
   "source": [
    "# Código R\n",
    "%Rpush X\n",
    "%R mean(X)"
   ]
  },
  {
   "cell_type": "code",
   "execution_count": null,
   "metadata": {
    "collapsed": true
   },
   "outputs": [],
   "source": [
    "# Convertendo um dataframe R para um dataframe Python\n",
    "pd_df = mtcars"
   ]
  },
  {
   "cell_type": "code",
   "execution_count": null,
   "metadata": {},
   "outputs": [],
   "source": [
    "pd_df"
   ]
  },
  {
   "cell_type": "code",
   "execution_count": null,
   "metadata": {},
   "outputs": [],
   "source": [
    "type(pd_df)"
   ]
  },
  {
   "cell_type": "markdown",
   "metadata": {},
   "source": [
    "## Plots"
   ]
  },
  {
   "cell_type": "code",
   "execution_count": null,
   "metadata": {
    "collapsed": true
   },
   "outputs": [],
   "source": [
    "import rpy2.robjects as robjects"
   ]
  },
  {
   "cell_type": "code",
   "execution_count": null,
   "metadata": {
    "collapsed": true
   },
   "outputs": [],
   "source": [
    "r = robjects.r"
   ]
  },
  {
   "cell_type": "code",
   "execution_count": null,
   "metadata": {
    "collapsed": true
   },
   "outputs": [],
   "source": [
    "x = robjects.IntVector(range(10))"
   ]
  },
  {
   "cell_type": "code",
   "execution_count": null,
   "metadata": {
    "collapsed": true
   },
   "outputs": [],
   "source": [
    "y = r.rnorm(10)"
   ]
  },
  {
   "cell_type": "code",
   "execution_count": null,
   "metadata": {},
   "outputs": [],
   "source": [
    "r.X11()"
   ]
  },
  {
   "cell_type": "code",
   "execution_count": null,
   "metadata": {},
   "outputs": [],
   "source": [
    "# Criando uma matriz a partir de um vetor \n",
    "r.layout(r.matrix(robjects.IntVector([1,2,3,2]), nrow = 2, ncol = 2))"
   ]
  },
  {
   "cell_type": "code",
   "execution_count": null,
   "metadata": {},
   "outputs": [],
   "source": [
    "# Gerando o gráfico\n",
    "r.plot(r.runif(10), y, xlab = \"Eixo x\", ylab = \"Eixo y\", col = \"red\")"
   ]
  },
  {
   "cell_type": "code",
   "execution_count": null,
   "metadata": {},
   "outputs": [],
   "source": [
    "# Outro Exemplo - Principal Componente Analysis\n",
    "from rpy2.robjects.packages import importr\n",
    "graphics = importr('graphics')\n",
    "grdevices = importr('grDevices')\n",
    "base = importr('base')\n",
    "stats = importr('stats')\n",
    "\n",
    "import array\n",
    "\n",
    "x = array.array('i', range(10))\n",
    "y = stats.rnorm(10)\n",
    "\n",
    "grdevices.X11()\n",
    "\n",
    "graphics.par(mfrow = array.array('i', [2,2]))\n",
    "graphics.plot(x, y, ylab = \"Eixo y\", col = \"red\")\n",
    "\n",
    "kwargs = {'ylab':\"Eixo y\", 'type':\"b\", 'col':\"blue\", 'log':\"x\"}\n",
    "graphics.plot(x, y, **kwargs)\n",
    "\n",
    "\n",
    "m = base.matrix(stats.rnorm(100), ncol = 5)\n",
    "pca = stats.princomp(m)\n",
    "graphics.plot(pca, main = \"Valores\")\n",
    "stats.biplot(pca, main = \"biplot\")"
   ]
  },
  {
   "cell_type": "markdown",
   "metadata": {},
   "source": [
    "## ggplot"
   ]
  },
  {
   "cell_type": "code",
   "execution_count": null,
   "metadata": {
    "collapsed": true
   },
   "outputs": [],
   "source": [
    "import numpy as np\n",
    "import pandas as pd\n",
    "import rpy2.robjects.packages as packages\n",
    "import rpy2.robjects.lib.ggplot2 as ggplot2\n",
    "import rpy2.robjects as ro"
   ]
  },
  {
   "cell_type": "code",
   "execution_count": null,
   "metadata": {
    "collapsed": true
   },
   "outputs": [],
   "source": [
    "# Importando o dataset do R, o mtcars\n",
    "R = ro.r\n",
    "datasets = packages.importr('datasets')\n",
    "mtcars = packages.data(datasets).fetch('mtcars')['mtcars']"
   ]
  },
  {
   "cell_type": "code",
   "execution_count": null,
   "metadata": {
    "collapsed": true
   },
   "outputs": [],
   "source": [
    "# Gerando o gráfico com ggplot\n",
    "gp = ggplot2.ggplot(mtcars)\n",
    "pyplot = (gp \n",
    "      + ggplot2.aes_string(x = 'wt', y = 'mpg')\n",
    "      + ggplot2.geom_point(ggplot2.aes_string(colour = 'qsec'))\n",
    "      + ggplot2.scale_colour_gradient(low = \"yellow\", high = \"red\") \n",
    "      + ggplot2.geom_smooth(method = 'auto') \n",
    "      + ggplot2.labs(title = \"mtcars\", x = 'wt', y = 'mpg'))\n",
    "\n",
    "pyplot.plot()"
   ]
  },
  {
   "cell_type": "markdown",
   "metadata": {
    "collapsed": true
   },
   "source": [
    "## Análise de Variância"
   ]
  },
  {
   "cell_type": "code",
   "execution_count": null,
   "metadata": {},
   "outputs": [],
   "source": [
    "import rpy2.robjects as robjects\n",
    "\n",
    "r = robjects.r\n",
    "\n",
    "controle = robjects.FloatVector([4.17,5.58,5.18,6.11,4.50,4.61,\n",
    "                                 5.17,4.53,5.33,5.14])\n",
    "tratamento = robjects.FloatVector([4.81,4.17,4.41,3.59,5.87,3.83,\n",
    "                                   6.03,4.89,4.32,4.69])\n",
    "\n",
    "grupo = r.gl(2, 10, 20, labels = [\"Controle\",\"Tratamento\"])\n",
    "peso = controle + tratamento\n",
    "\n",
    "robjects.globalenv[\"peso\"] = peso\n",
    "robjects.globalenv[\"grupo\"] = grupo\n",
    "lm_r = r.lm(\"peso ~ grupo\")\n",
    "\n",
    "# Imprimindo a análise\n",
    "print(r.anova(lm_r))\n",
    "\n",
    "\n",
    "lm_r = r.lm(\"peso ~ grupo - 1\")\n",
    "print(r.summary(lm_r))"
   ]
  },
  {
   "cell_type": "markdown",
   "metadata": {},
   "source": [
    "### Dúvidas sobre Análise de Variância na linguagem R, consulte nosso treinamento <font color='blue'><a href=\"http://www.datascienceacademy.com.br/pages/curso-big-data-analytics-r-e-azure\">Big Data Analytics com R e Azure</a>.</font>"
   ]
  },
  {
   "cell_type": "code",
   "execution_count": null,
   "metadata": {},
   "outputs": [],
   "source": [
    "print(lm_r.names)"
   ]
  },
  {
   "cell_type": "code",
   "execution_count": null,
   "metadata": {},
   "outputs": [],
   "source": [
    "# Imprimindo apenas os coeficientes\n",
    "print(lm_r.rx2('coefficients'))"
   ]
  },
  {
   "cell_type": "markdown",
   "metadata": {},
   "source": [
    "# Fim"
   ]
  },
  {
   "cell_type": "markdown",
   "metadata": {},
   "source": [
    "### Obrigado - Data Science Academy - <a href=http://facebook.com/dsacademy>facebook.com/dsacademybr</a>"
   ]
  }
 ],
 "metadata": {
  "kernelspec": {
   "display_name": "Python 3",
   "language": "python",
   "name": "python3"
  },
  "language_info": {
   "codemirror_mode": {
    "name": "ipython",
    "version": 3
   },
   "file_extension": ".py",
   "mimetype": "text/x-python",
   "name": "python",
   "nbconvert_exporter": "python",
   "pygments_lexer": "ipython3",
   "version": "3.6.1"
  }
 },
 "nbformat": 4,
 "nbformat_minor": 1
}
